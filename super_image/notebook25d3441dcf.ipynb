{
 "metadata": {
  "colab": {
   "provenance": []
  },
  "kernelspec": {
   "name": "python3",
   "display_name": "Python 3",
   "language": "python"
  },
  "language_info": {
   "name": "python",
   "version": "3.10.10",
   "mimetype": "text/x-python",
   "codemirror_mode": {
    "name": "ipython",
    "version": 3
   },
   "pygments_lexer": "ipython3",
   "nbconvert_exporter": "python",
   "file_extension": ".py"
  },
  "gpuClass": "standard",
  "accelerator": "GPU"
 },
 "nbformat_minor": 4,
 "nbformat": 4,
 "cells": [
  {
   "cell_type": "code",
   "source": [
    "!pip install super-image"
   ],
   "metadata": {
    "id": "eaQ0mBR_wszE",
    "colab": {
     "base_uri": "https://localhost:8080/"
    },
    "outputId": "51576f94-9c3f-4445-963d-d230f658e3c7",
    "execution": {
     "iopub.status.busy": "2023-06-26T06:51:13.951270Z",
     "iopub.execute_input": "2023-06-26T06:51:13.951814Z",
     "iopub.status.idle": "2023-06-26T06:51:30.587843Z",
     "shell.execute_reply.started": "2023-06-26T06:51:13.951771Z",
     "shell.execute_reply": "2023-06-26T06:51:30.586379Z"
    },
    "trusted": true
   },
   "execution_count": 1,
   "outputs": [
    {
     "name": "stdout",
     "text": "Collecting super-image\n  Downloading super_image-0.1.7-py3-none-any.whl (91 kB)\n\u001B[2K     \u001B[90m━━━━━━━━━━━━━━━━━━━━━━━━━━━━━━━━━━━━━━━━\u001B[0m \u001B[32m91.0/91.0 kB\u001B[0m \u001B[31m3.7 MB/s\u001B[0m eta \u001B[36m0:00:00\u001B[0m\n\u001B[?25hRequirement already satisfied: h5py>=3.1.0 in /opt/conda/lib/python3.10/site-packages (from super-image) (3.8.0)\nRequirement already satisfied: huggingface-hub>=0.0.13 in /opt/conda/lib/python3.10/site-packages (from super-image) (0.15.1)\nRequirement already satisfied: opencv-python>=4.5.2.54 in /opt/conda/lib/python3.10/site-packages (from super-image) (4.7.0.72)\nRequirement already satisfied: torch>=1.9.0 in /opt/conda/lib/python3.10/site-packages (from super-image) (2.0.0+cpu)\nRequirement already satisfied: torchvision>=0.10.0 in /opt/conda/lib/python3.10/site-packages (from super-image) (0.15.1+cpu)\nRequirement already satisfied: tqdm>=4.61.2 in /opt/conda/lib/python3.10/site-packages (from super-image) (4.64.1)\nRequirement already satisfied: numpy>=1.14.5 in /opt/conda/lib/python3.10/site-packages (from h5py>=3.1.0->super-image) (1.23.5)\nRequirement already satisfied: filelock in /opt/conda/lib/python3.10/site-packages (from huggingface-hub>=0.0.13->super-image) (3.12.0)\nRequirement already satisfied: fsspec in /opt/conda/lib/python3.10/site-packages (from huggingface-hub>=0.0.13->super-image) (2023.6.0)\nRequirement already satisfied: requests in /opt/conda/lib/python3.10/site-packages (from huggingface-hub>=0.0.13->super-image) (2.28.2)\nRequirement already satisfied: pyyaml>=5.1 in /opt/conda/lib/python3.10/site-packages (from huggingface-hub>=0.0.13->super-image) (5.4.1)\nRequirement already satisfied: typing-extensions>=3.7.4.3 in /opt/conda/lib/python3.10/site-packages (from huggingface-hub>=0.0.13->super-image) (4.5.0)\nRequirement already satisfied: packaging>=20.9 in /opt/conda/lib/python3.10/site-packages (from huggingface-hub>=0.0.13->super-image) (21.3)\nRequirement already satisfied: sympy in /opt/conda/lib/python3.10/site-packages (from torch>=1.9.0->super-image) (1.12)\nRequirement already satisfied: networkx in /opt/conda/lib/python3.10/site-packages (from torch>=1.9.0->super-image) (3.1)\nRequirement already satisfied: jinja2 in /opt/conda/lib/python3.10/site-packages (from torch>=1.9.0->super-image) (3.1.2)\nRequirement already satisfied: pillow!=8.3.*,>=5.3.0 in /opt/conda/lib/python3.10/site-packages (from torchvision>=0.10.0->super-image) (9.5.0)\nRequirement already satisfied: pyparsing!=3.0.5,>=2.0.2 in /opt/conda/lib/python3.10/site-packages (from packaging>=20.9->huggingface-hub>=0.0.13->super-image) (3.0.9)\nRequirement already satisfied: MarkupSafe>=2.0 in /opt/conda/lib/python3.10/site-packages (from jinja2->torch>=1.9.0->super-image) (2.1.2)\nRequirement already satisfied: charset-normalizer<4,>=2 in /opt/conda/lib/python3.10/site-packages (from requests->huggingface-hub>=0.0.13->super-image) (2.1.1)\nRequirement already satisfied: idna<4,>=2.5 in /opt/conda/lib/python3.10/site-packages (from requests->huggingface-hub>=0.0.13->super-image) (3.4)\nRequirement already satisfied: urllib3<1.27,>=1.21.1 in /opt/conda/lib/python3.10/site-packages (from requests->huggingface-hub>=0.0.13->super-image) (1.26.15)\nRequirement already satisfied: certifi>=2017.4.17 in /opt/conda/lib/python3.10/site-packages (from requests->huggingface-hub>=0.0.13->super-image) (2023.5.7)\nRequirement already satisfied: mpmath>=0.19 in /opt/conda/lib/python3.10/site-packages (from sympy->torch>=1.9.0->super-image) (1.3.0)\nInstalling collected packages: super-image\nSuccessfully installed super-image-0.1.7\n\u001B[33mWARNING: Running pip as the 'root' user can result in broken permissions and conflicting behaviour with the system package manager. It is recommended to use a virtual environment instead: https://pip.pypa.io/warnings/venv\u001B[0m\u001B[33m\n\u001B[0m",
     "output_type": "stream"
    }
   ]
  },
  {
   "cell_type": "code",
   "source": [
    "!pip install datasets"
   ],
   "metadata": {
    "id": "p6SKj7ldw2V4",
    "colab": {
     "base_uri": "https://localhost:8080/"
    },
    "outputId": "8575ccad-45c8-4a62-fa34-60c35525b36e",
    "execution": {
     "iopub.status.busy": "2023-06-26T06:51:30.590971Z",
     "iopub.execute_input": "2023-06-26T06:51:30.591456Z",
     "iopub.status.idle": "2023-06-26T06:51:45.305630Z",
     "shell.execute_reply.started": "2023-06-26T06:51:30.591408Z",
     "shell.execute_reply": "2023-06-26T06:51:45.304023Z"
    },
    "trusted": true
   },
   "execution_count": 2,
   "outputs": [
    {
     "name": "stdout",
     "text": "Requirement already satisfied: datasets in /opt/conda/lib/python3.10/site-packages (2.1.0)\nRequirement already satisfied: numpy>=1.17 in /opt/conda/lib/python3.10/site-packages (from datasets) (1.23.5)\nRequirement already satisfied: pyarrow>=5.0.0 in /opt/conda/lib/python3.10/site-packages (from datasets) (9.0.0)\nRequirement already satisfied: dill in /opt/conda/lib/python3.10/site-packages (from datasets) (0.3.6)\nRequirement already satisfied: pandas in /opt/conda/lib/python3.10/site-packages (from datasets) (1.5.3)\nRequirement already satisfied: requests>=2.19.0 in /opt/conda/lib/python3.10/site-packages (from datasets) (2.28.2)\nRequirement already satisfied: tqdm>=4.62.1 in /opt/conda/lib/python3.10/site-packages (from datasets) (4.64.1)\nRequirement already satisfied: xxhash in /opt/conda/lib/python3.10/site-packages (from datasets) (3.2.0)\nRequirement already satisfied: multiprocess in /opt/conda/lib/python3.10/site-packages (from datasets) (0.70.14)\nRequirement already satisfied: fsspec[http]>=2021.05.0 in /opt/conda/lib/python3.10/site-packages (from datasets) (2023.6.0)\nRequirement already satisfied: aiohttp in /opt/conda/lib/python3.10/site-packages (from datasets) (3.8.4)\nRequirement already satisfied: huggingface-hub<1.0.0,>=0.1.0 in /opt/conda/lib/python3.10/site-packages (from datasets) (0.15.1)\nRequirement already satisfied: packaging in /opt/conda/lib/python3.10/site-packages (from datasets) (21.3)\nRequirement already satisfied: responses<0.19 in /opt/conda/lib/python3.10/site-packages (from datasets) (0.18.0)\nRequirement already satisfied: attrs>=17.3.0 in /opt/conda/lib/python3.10/site-packages (from aiohttp->datasets) (23.1.0)\nRequirement already satisfied: charset-normalizer<4.0,>=2.0 in /opt/conda/lib/python3.10/site-packages (from aiohttp->datasets) (2.1.1)\nRequirement already satisfied: multidict<7.0,>=4.5 in /opt/conda/lib/python3.10/site-packages (from aiohttp->datasets) (6.0.4)\nRequirement already satisfied: async-timeout<5.0,>=4.0.0a3 in /opt/conda/lib/python3.10/site-packages (from aiohttp->datasets) (4.0.2)\nRequirement already satisfied: yarl<2.0,>=1.0 in /opt/conda/lib/python3.10/site-packages (from aiohttp->datasets) (1.9.1)\nRequirement already satisfied: frozenlist>=1.1.1 in /opt/conda/lib/python3.10/site-packages (from aiohttp->datasets) (1.3.3)\nRequirement already satisfied: aiosignal>=1.1.2 in /opt/conda/lib/python3.10/site-packages (from aiohttp->datasets) (1.3.1)\nRequirement already satisfied: filelock in /opt/conda/lib/python3.10/site-packages (from huggingface-hub<1.0.0,>=0.1.0->datasets) (3.12.0)\nRequirement already satisfied: pyyaml>=5.1 in /opt/conda/lib/python3.10/site-packages (from huggingface-hub<1.0.0,>=0.1.0->datasets) (5.4.1)\nRequirement already satisfied: typing-extensions>=3.7.4.3 in /opt/conda/lib/python3.10/site-packages (from huggingface-hub<1.0.0,>=0.1.0->datasets) (4.5.0)\nRequirement already satisfied: pyparsing!=3.0.5,>=2.0.2 in /opt/conda/lib/python3.10/site-packages (from packaging->datasets) (3.0.9)\nRequirement already satisfied: idna<4,>=2.5 in /opt/conda/lib/python3.10/site-packages (from requests>=2.19.0->datasets) (3.4)\nRequirement already satisfied: urllib3<1.27,>=1.21.1 in /opt/conda/lib/python3.10/site-packages (from requests>=2.19.0->datasets) (1.26.15)\nRequirement already satisfied: certifi>=2017.4.17 in /opt/conda/lib/python3.10/site-packages (from requests>=2.19.0->datasets) (2023.5.7)\nRequirement already satisfied: python-dateutil>=2.8.1 in /opt/conda/lib/python3.10/site-packages (from pandas->datasets) (2.8.2)\nRequirement already satisfied: pytz>=2020.1 in /opt/conda/lib/python3.10/site-packages (from pandas->datasets) (2023.3)\nRequirement already satisfied: six>=1.5 in /opt/conda/lib/python3.10/site-packages (from python-dateutil>=2.8.1->pandas->datasets) (1.16.0)\n\u001B[33mWARNING: Running pip as the 'root' user can result in broken permissions and conflicting behaviour with the system package manager. It is recommended to use a virtual environment instead: https://pip.pypa.io/warnings/venv\u001B[0m\u001B[33m\n\u001B[0m",
     "output_type": "stream"
    }
   ]
  },
  {
   "cell_type": "code",
   "source": [
    "!pip install lightning"
   ],
   "metadata": {
    "id": "eQF0BzsxxZIb",
    "colab": {
     "base_uri": "https://localhost:8080/"
    },
    "outputId": "59f1e293-1435-477a-8ba3-a85850049234",
    "execution": {
     "iopub.status.busy": "2023-06-26T06:51:45.308002Z",
     "iopub.execute_input": "2023-06-26T06:51:45.308507Z",
     "iopub.status.idle": "2023-06-26T06:52:05.127062Z",
     "shell.execute_reply.started": "2023-06-26T06:51:45.308459Z",
     "shell.execute_reply": "2023-06-26T06:52:05.125467Z"
    },
    "trusted": true
   },
   "execution_count": 3,
   "outputs": [
    {
     "name": "stdout",
     "text": "Collecting lightning\n  Downloading lightning-2.0.4-py3-none-any.whl (1.8 MB)\n\u001B[2K     \u001B[90m━━━━━━━━━━━━━━━━━━━━━━━━━━━━━━━━━━━━━━━━\u001B[0m \u001B[32m1.8/1.8 MB\u001B[0m \u001B[31m28.2 MB/s\u001B[0m eta \u001B[36m0:00:00\u001B[0ma \u001B[36m0:00:01\u001B[0m\n\u001B[?25hRequirement already satisfied: Jinja2<5.0 in /opt/conda/lib/python3.10/site-packages (from lightning) (3.1.2)\nRequirement already satisfied: PyYAML<8.0 in /opt/conda/lib/python3.10/site-packages (from lightning) (5.4.1)\nRequirement already satisfied: arrow<3.0,>=1.2.0 in /opt/conda/lib/python3.10/site-packages (from lightning) (1.2.3)\nRequirement already satisfied: beautifulsoup4<6.0,>=4.8.0 in /opt/conda/lib/python3.10/site-packages (from lightning) (4.12.2)\nRequirement already satisfied: click<10.0 in /opt/conda/lib/python3.10/site-packages (from lightning) (8.1.3)\nCollecting croniter<1.4.0,>=1.3.0 (from lightning)\n  Downloading croniter-1.3.15-py2.py3-none-any.whl (19 kB)\nCollecting dateutils<2.0 (from lightning)\n  Downloading dateutils-0.6.12-py2.py3-none-any.whl (5.7 kB)\nCollecting deepdiff<8.0,>=5.7.0 (from lightning)\n  Downloading deepdiff-6.3.0-py3-none-any.whl (69 kB)\n\u001B[2K     \u001B[90m━━━━━━━━━━━━━━━━━━━━━━━━━━━━━━━━━━━━━━━━\u001B[0m \u001B[32m69.7/69.7 kB\u001B[0m \u001B[31m5.2 MB/s\u001B[0m eta \u001B[36m0:00:00\u001B[0m\n\u001B[?25hRequirement already satisfied: fastapi<2.0,>=0.92.0 in /opt/conda/lib/python3.10/site-packages (from lightning) (0.95.1)\nRequirement already satisfied: fsspec<2024.0,>=2022.5.0 in /opt/conda/lib/python3.10/site-packages (from lightning) (2023.6.0)\nCollecting inquirer<5.0,>=2.10.0 (from lightning)\n  Downloading inquirer-3.1.3-py3-none-any.whl (18 kB)\nCollecting lightning-cloud>=0.5.34 (from lightning)\n  Downloading lightning_cloud-0.5.37-py3-none-any.whl (596 kB)\n\u001B[2K     \u001B[90m━━━━━━━━━━━━━━━━━━━━━━━━━━━━━━━━━━━━━━\u001B[0m \u001B[32m596.7/596.7 kB\u001B[0m \u001B[31m30.9 MB/s\u001B[0m eta \u001B[36m0:00:00\u001B[0m\n\u001B[?25hRequirement already satisfied: lightning-utilities<2.0,>=0.7.0 in /opt/conda/lib/python3.10/site-packages (from lightning) (0.8.0)\nRequirement already satisfied: numpy<3.0,>=1.17.2 in /opt/conda/lib/python3.10/site-packages (from lightning) (1.23.5)\nRequirement already satisfied: packaging in /opt/conda/lib/python3.10/site-packages (from lightning) (21.3)\nRequirement already satisfied: psutil<7.0 in /opt/conda/lib/python3.10/site-packages (from lightning) (5.9.3)\nRequirement already satisfied: pydantic<4.0,>=1.7.4 in /opt/conda/lib/python3.10/site-packages (from lightning) (1.10.7)\nCollecting python-multipart<2.0,>=0.0.5 (from lightning)\n  Downloading python_multipart-0.0.6-py3-none-any.whl (45 kB)\n\u001B[2K     \u001B[90m━━━━━━━━━━━━━━━━━━━━━━━━━━━━━━━━━━━━━━━━\u001B[0m \u001B[32m45.7/45.7 kB\u001B[0m \u001B[31m3.6 MB/s\u001B[0m eta \u001B[36m0:00:00\u001B[0m\n\u001B[?25hRequirement already satisfied: requests<4.0 in /opt/conda/lib/python3.10/site-packages (from lightning) (2.28.2)\nRequirement already satisfied: rich<15.0,>=12.3.0 in /opt/conda/lib/python3.10/site-packages (from lightning) (13.3.5)\nRequirement already satisfied: starlette in /opt/conda/lib/python3.10/site-packages (from lightning) (0.26.1)\nCollecting starsessions<2.0,>=1.2.1 (from lightning)\n  Downloading starsessions-1.3.0-py3-none-any.whl (10 kB)\nRequirement already satisfied: torch<4.0,>=1.11.0 in /opt/conda/lib/python3.10/site-packages (from lightning) (2.0.0+cpu)\nRequirement already satisfied: torchmetrics<2.0,>=0.7.0 in /opt/conda/lib/python3.10/site-packages (from lightning) (0.11.4)\nRequirement already satisfied: tqdm<6.0,>=4.57.0 in /opt/conda/lib/python3.10/site-packages (from lightning) (4.64.1)\nRequirement already satisfied: traitlets<7.0,>=5.3.0 in /opt/conda/lib/python3.10/site-packages (from lightning) (5.9.0)\nRequirement already satisfied: typing-extensions<6.0,>=4.0.0 in /opt/conda/lib/python3.10/site-packages (from lightning) (4.5.0)\nRequirement already satisfied: urllib3<4.0 in /opt/conda/lib/python3.10/site-packages (from lightning) (1.26.15)\nRequirement already satisfied: uvicorn<2.0 in /opt/conda/lib/python3.10/site-packages (from lightning) (0.22.0)\nRequirement already satisfied: websocket-client<3.0 in /opt/conda/lib/python3.10/site-packages (from lightning) (1.5.1)\nRequirement already satisfied: websockets<12.0 in /opt/conda/lib/python3.10/site-packages (from lightning) (11.0.3)\nRequirement already satisfied: pytorch-lightning in /opt/conda/lib/python3.10/site-packages (from lightning) (2.0.3)\nRequirement already satisfied: python-dateutil>=2.7.0 in /opt/conda/lib/python3.10/site-packages (from arrow<3.0,>=1.2.0->lightning) (2.8.2)\nRequirement already satisfied: soupsieve>1.2 in /opt/conda/lib/python3.10/site-packages (from beautifulsoup4<6.0,>=4.8.0->lightning) (2.3.2.post1)\nRequirement already satisfied: pytz in /opt/conda/lib/python3.10/site-packages (from dateutils<2.0->lightning) (2023.3)\nCollecting ordered-set<4.2.0,>=4.0.2 (from deepdiff<8.0,>=5.7.0->lightning)\n  Downloading ordered_set-4.1.0-py3-none-any.whl (7.6 kB)\nRequirement already satisfied: aiohttp!=4.0.0a0,!=4.0.0a1 in /opt/conda/lib/python3.10/site-packages (from fsspec<2024.0,>=2022.5.0->lightning) (3.8.4)\nRequirement already satisfied: blessed>=1.19.0 in /opt/conda/lib/python3.10/site-packages (from inquirer<5.0,>=2.10.0->lightning) (1.20.0)\nCollecting python-editor>=1.0.4 (from inquirer<5.0,>=2.10.0->lightning)\n  Downloading python_editor-1.0.4-py3-none-any.whl (4.9 kB)\nCollecting readchar>=3.0.6 (from inquirer<5.0,>=2.10.0->lightning)\n  Downloading readchar-4.0.5-py3-none-any.whl (8.5 kB)\nRequirement already satisfied: MarkupSafe>=2.0 in /opt/conda/lib/python3.10/site-packages (from Jinja2<5.0->lightning) (2.1.2)\nRequirement already satisfied: pyjwt in /opt/conda/lib/python3.10/site-packages (from lightning-cloud>=0.5.34->lightning) (2.6.0)\nRequirement already satisfied: six in /opt/conda/lib/python3.10/site-packages (from lightning-cloud>=0.5.34->lightning) (1.16.0)\nRequirement already satisfied: pyparsing!=3.0.5,>=2.0.2 in /opt/conda/lib/python3.10/site-packages (from packaging->lightning) (3.0.9)\nRequirement already satisfied: charset-normalizer<4,>=2 in /opt/conda/lib/python3.10/site-packages (from requests<4.0->lightning) (2.1.1)\nRequirement already satisfied: idna<4,>=2.5 in /opt/conda/lib/python3.10/site-packages (from requests<4.0->lightning) (3.4)\nRequirement already satisfied: certifi>=2017.4.17 in /opt/conda/lib/python3.10/site-packages (from requests<4.0->lightning) (2023.5.7)\nRequirement already satisfied: markdown-it-py<3.0.0,>=2.2.0 in /opt/conda/lib/python3.10/site-packages (from rich<15.0,>=12.3.0->lightning) (2.2.0)\nRequirement already satisfied: pygments<3.0.0,>=2.13.0 in /opt/conda/lib/python3.10/site-packages (from rich<15.0,>=12.3.0->lightning) (2.15.1)\nRequirement already satisfied: anyio<5,>=3.4.0 in /opt/conda/lib/python3.10/site-packages (from starlette->lightning) (3.6.2)\nRequirement already satisfied: itsdangerous<3.0.0,>=2.0.1 in /opt/conda/lib/python3.10/site-packages (from starsessions<2.0,>=1.2.1->lightning) (2.1.2)\nRequirement already satisfied: filelock in /opt/conda/lib/python3.10/site-packages (from torch<4.0,>=1.11.0->lightning) (3.12.0)\nRequirement already satisfied: sympy in /opt/conda/lib/python3.10/site-packages (from torch<4.0,>=1.11.0->lightning) (1.12)\nRequirement already satisfied: networkx in /opt/conda/lib/python3.10/site-packages (from torch<4.0,>=1.11.0->lightning) (3.1)\nRequirement already satisfied: h11>=0.8 in /opt/conda/lib/python3.10/site-packages (from uvicorn<2.0->lightning) (0.14.0)\nRequirement already satisfied: attrs>=17.3.0 in /opt/conda/lib/python3.10/site-packages (from aiohttp!=4.0.0a0,!=4.0.0a1->fsspec<2024.0,>=2022.5.0->lightning) (23.1.0)\nRequirement already satisfied: multidict<7.0,>=4.5 in /opt/conda/lib/python3.10/site-packages (from aiohttp!=4.0.0a0,!=4.0.0a1->fsspec<2024.0,>=2022.5.0->lightning) (6.0.4)\nRequirement already satisfied: async-timeout<5.0,>=4.0.0a3 in /opt/conda/lib/python3.10/site-packages (from aiohttp!=4.0.0a0,!=4.0.0a1->fsspec<2024.0,>=2022.5.0->lightning) (4.0.2)\nRequirement already satisfied: yarl<2.0,>=1.0 in /opt/conda/lib/python3.10/site-packages (from aiohttp!=4.0.0a0,!=4.0.0a1->fsspec<2024.0,>=2022.5.0->lightning) (1.9.1)\nRequirement already satisfied: frozenlist>=1.1.1 in /opt/conda/lib/python3.10/site-packages (from aiohttp!=4.0.0a0,!=4.0.0a1->fsspec<2024.0,>=2022.5.0->lightning) (1.3.3)\nRequirement already satisfied: aiosignal>=1.1.2 in /opt/conda/lib/python3.10/site-packages (from aiohttp!=4.0.0a0,!=4.0.0a1->fsspec<2024.0,>=2022.5.0->lightning) (1.3.1)\nRequirement already satisfied: sniffio>=1.1 in /opt/conda/lib/python3.10/site-packages (from anyio<5,>=3.4.0->starlette->lightning) (1.3.0)\nRequirement already satisfied: wcwidth>=0.1.4 in /opt/conda/lib/python3.10/site-packages (from blessed>=1.19.0->inquirer<5.0,>=2.10.0->lightning) (0.2.6)\nRequirement already satisfied: mdurl~=0.1 in /opt/conda/lib/python3.10/site-packages (from markdown-it-py<3.0.0,>=2.2.0->rich<15.0,>=12.3.0->lightning) (0.1.2)\nRequirement already satisfied: setuptools>=41.0 in /opt/conda/lib/python3.10/site-packages (from readchar>=3.0.6->inquirer<5.0,>=2.10.0->lightning) (59.8.0)\nRequirement already satisfied: mpmath>=0.19 in /opt/conda/lib/python3.10/site-packages (from sympy->torch<4.0,>=1.11.0->lightning) (1.3.0)\nInstalling collected packages: python-editor, readchar, python-multipart, ordered-set, inquirer, deepdiff, dateutils, croniter, starsessions, lightning-cloud, lightning\nSuccessfully installed croniter-1.3.15 dateutils-0.6.12 deepdiff-6.3.0 inquirer-3.1.3 lightning-2.0.4 lightning-cloud-0.5.37 ordered-set-4.1.0 python-editor-1.0.4 python-multipart-0.0.6 readchar-4.0.5 starsessions-1.3.0\n\u001B[33mWARNING: Running pip as the 'root' user can result in broken permissions and conflicting behaviour with the system package manager. It is recommended to use a virtual environment instead: https://pip.pypa.io/warnings/venv\u001B[0m\u001B[33m\n\u001B[0m",
     "output_type": "stream"
    }
   ]
  },
  {
   "cell_type": "code",
   "source": [
    "import torch\n",
    "from torch.utils.data import Dataset\n",
    "import torchvision.transforms as transforms\n",
    "from torch import nn\n",
    "import numpy as np\n",
    "from torchvision.models import vgg19\n",
    "from torchmetrics import TotalVariation\n",
    "from torch.utils.data import random_split, DataLoader\n",
    "import torch.nn.functional as F\n",
    "\n",
    "from datasets import load_dataset\n",
    "\n",
    "import torchmetrics\n",
    "import lightning.pytorch as pl\n",
    "from lightning.pytorch.callbacks.early_stopping import EarlyStopping\n",
    "from lightning.pytorch.callbacks import ModelCheckpoint\n",
    "from pytorch_lightning.callbacks import ModelSummary\n",
    "from lightning.pytorch.tuner import Tuner\n",
    "\n",
    "from torch.optim.lr_scheduler import ReduceLROnPlateau\n",
    "from lightning.pytorch.callbacks import Callback\n",
    "import cv2\n",
    "import albumentations as A\n",
    "from albumentations.pytorch import ToTensorV2\n",
    "from albumentations.augmentations.transforms import Normalize\n",
    "\n",
    "import matplotlib.pyplot as plt\n",
    "import multiprocessing\n",
    "from collections import OrderedDict\n",
    "from torchvision import datasets, transforms, utils\n",
    "import torchvision"
   ],
   "metadata": {
    "id": "xNqybr76vqIH",
    "execution": {
     "iopub.status.busy": "2023-06-26T06:52:05.130244Z",
     "iopub.execute_input": "2023-06-26T06:52:05.130737Z",
     "iopub.status.idle": "2023-06-26T06:52:29.110603Z",
     "shell.execute_reply.started": "2023-06-26T06:52:05.130701Z",
     "shell.execute_reply": "2023-06-26T06:52:29.108999Z"
    },
    "trusted": true
   },
   "execution_count": 4,
   "outputs": [
    {
     "name": "stderr",
     "text": "/opt/conda/lib/python3.10/site-packages/tensorflow_io/python/ops/__init__.py:98: UserWarning: unable to load libtensorflow_io_plugins.so: unable to open file: libtensorflow_io_plugins.so, from paths: ['/opt/conda/lib/python3.10/site-packages/tensorflow_io/python/ops/libtensorflow_io_plugins.so']\ncaused by: ['/opt/conda/lib/python3.10/site-packages/tensorflow_io/python/ops/libtensorflow_io_plugins.so: undefined symbol: _ZN3tsl6StatusC1EN10tensorflow5error4CodeESt17basic_string_viewIcSt11char_traitsIcEENS_14SourceLocationE']\n  warnings.warn(f\"unable to load libtensorflow_io_plugins.so: {e}\")\n/opt/conda/lib/python3.10/site-packages/tensorflow_io/python/ops/__init__.py:104: UserWarning: file system plugins are not loaded: unable to open file: libtensorflow_io.so, from paths: ['/opt/conda/lib/python3.10/site-packages/tensorflow_io/python/ops/libtensorflow_io.so']\ncaused by: ['/opt/conda/lib/python3.10/site-packages/tensorflow_io/python/ops/libtensorflow_io.so: undefined symbol: _ZTVN10tensorflow13GcsFileSystemE']\n  warnings.warn(f\"file system plugins are not loaded: {e}\")\n",
     "output_type": "stream"
    }
   ]
  },
  {
   "cell_type": "code",
   "source": [
    "# https://pytorch-lightning.readthedocs.io/en/1.5.10/common/optimizers.html"
   ],
   "metadata": {
    "id": "TvI0hF6Li0w4",
    "execution": {
     "iopub.status.busy": "2023-06-26T06:52:29.112319Z",
     "iopub.execute_input": "2023-06-26T06:52:29.112671Z",
     "iopub.status.idle": "2023-06-26T06:52:29.119927Z",
     "shell.execute_reply.started": "2023-06-26T06:52:29.112640Z",
     "shell.execute_reply": "2023-06-26T06:52:29.117775Z"
    },
    "trusted": true
   },
   "execution_count": 5,
   "outputs": []
  },
  {
   "cell_type": "code",
   "source": [
    "class Div2KDataset(Dataset):\n",
    "  def __init__(self,\n",
    "               dataset_dict,\n",
    "               upsampling_rate,\n",
    "               patch_size,\n",
    "               transform):\n",
    "    super().__init__()\n",
    "    self.dataset_dict = dataset_dict\n",
    "    self.transform = transform\n",
    "    self.low_r_transform = A.Compose([\n",
    "        Normalize((-1.0, -1.0, -1.0), (2.0, 2.0, 2.0), max_pixel_value=1.0), # [0, 1]\n",
    "        A.Resize(patch_size//upsampling_rate, patch_size//upsampling_rate, cv2.INTER_CUBIC),\n",
    "        ToTensorV2()\n",
    "    ])\n",
    "\n",
    "  def __getitem__(self, idx):\n",
    "    high_r_y =  self.dataset_dict[idx]['hr']\n",
    "    high_r_y = cv2.imread(high_r_y)\n",
    "    high_r_y = cv2.cvtColor(high_r_y, cv2.COLOR_BGR2RGB)\n",
    "    high_r_y  = self.transform(image=high_r_y)['image']\n",
    "    low_r_x = (high_r_y.permute(1, 2, 0)).numpy()\n",
    "    low_r_x =  self.low_r_transform(image=low_r_x)['image']\n",
    "    return high_r_y, low_r_x\n",
    "\n",
    "  def __len__(self):\n",
    "    return len(self.dataset_dict)"
   ],
   "metadata": {
    "id": "aSWa9ZLqHM3m",
    "execution": {
     "iopub.status.busy": "2023-06-26T06:52:29.121694Z",
     "iopub.execute_input": "2023-06-26T06:52:29.122477Z",
     "iopub.status.idle": "2023-06-26T06:52:29.139500Z",
     "shell.execute_reply.started": "2023-06-26T06:52:29.122444Z",
     "shell.execute_reply": "2023-06-26T06:52:29.137848Z"
    },
    "trusted": true
   },
   "execution_count": 6,
   "outputs": []
  },
  {
   "cell_type": "code",
   "source": [
    "# -------------------\n",
    "# Step 2: Define train, validation, test data in DataModule\n",
    "# -------------------\n",
    "\n",
    "class DataModule(pl.LightningDataModule):\n",
    "    def __init__(self,\n",
    "                 upsampling_rate,\n",
    "                 patch_size,\n",
    "                 batch_size):\n",
    "      super().__init__()\n",
    "      self.upsampling_rate = upsampling_rate\n",
    "      self.batch_size = batch_size\n",
    "      self.patch_size = patch_size\n",
    "      self.prepare_data()\n",
    "      self.train_transform = A.Compose([\n",
    "          A.RandomRotate90(p=0.75),\n",
    "          A.HorizontalFlip(p=0.75),\n",
    "          A.VerticalFlip(p=0.75),\n",
    "          A.RandomCrop(patch_size, patch_size, p=1),\n",
    "          Normalize((0.5, 0.5, 0.5), (0.5, 0.5, 0.5)), # [-1, 1]\n",
    "          ToTensorV2()\n",
    "      ])\n",
    "      self.val_transform = A.Compose([\n",
    "          A.CenterCrop(patch_size, patch_size, p=1),\n",
    "          Normalize((0.5, 0.5, 0.5), (0.5, 0.5, 0.5)),\n",
    "          ToTensorV2()\n",
    "      ])\n",
    "\n",
    "    def prepare_data(self):\n",
    "        self.train_dataset = load_dataset('eugenesiow/Div2k', 'bicubic_x4', split='train')\n",
    "        self.val_dataset = load_dataset('eugenesiow/Div2k', 'bicubic_x4', split='validation')\n",
    "\n",
    "    def setup(self, stage=None):\n",
    "      self.train_data = Div2KDataset(self.train_dataset, self.upsampling_rate, self.patch_size, self.train_transform)\n",
    "      self.val_data = Div2KDataset(self.val_dataset, self.upsampling_rate, self.patch_size, self.val_transform)\n",
    "\n",
    "    def train_dataloader(self):\n",
    "        return DataLoader(self.train_data, batch_size=self.batch_size, shuffle=True, num_workers=2)\n",
    "\n",
    "    def val_dataloader(self):\n",
    "        return DataLoader(self.val_data, batch_size=self.batch_size, shuffle=False, num_workers=2)"
   ],
   "metadata": {
    "id": "32A5YL7MxRCA",
    "execution": {
     "iopub.status.busy": "2023-06-26T06:52:29.142187Z",
     "iopub.execute_input": "2023-06-26T06:52:29.143487Z",
     "iopub.status.idle": "2023-06-26T06:52:29.158597Z",
     "shell.execute_reply.started": "2023-06-26T06:52:29.143433Z",
     "shell.execute_reply": "2023-06-26T06:52:29.156699Z"
    },
    "trusted": true
   },
   "execution_count": 7,
   "outputs": []
  },
  {
   "cell_type": "code",
   "source": [
    "# --------------------------------\n",
    "# Step 2: Build your network\n",
    "# --------------------------------\n",
    "class Conv2D(nn.Module):\n",
    "    def __init__(self,\n",
    "                 in_channels,\n",
    "                 out_channels,\n",
    "                 kernel_size,\n",
    "                 strides=1,\n",
    "                 padding='same',\n",
    "                 dilation=1,\n",
    "                 groups=1,\n",
    "                 activation=nn.ReLU,\n",
    "                 if_act=True,\n",
    "                 if_batch_norm=True):\n",
    "        super().__init__()\n",
    "        layers = []\n",
    "        if(if_batch_norm):\n",
    "          bias = False\n",
    "        else:\n",
    "          bias = True\n",
    "        conv2D = nn.Conv2d(in_channels=in_channels, out_channels=out_channels, kernel_size=kernel_size, stride=strides, padding=padding, dilation=dilation, groups=groups, bias=bias)\n",
    "        batch_norm = nn.BatchNorm2d(out_channels)\n",
    "        layers.append(conv2D)\n",
    "        if(if_batch_norm):\n",
    "            layers.append(batch_norm)\n",
    "        if(if_act):\n",
    "            layers.append(activation)\n",
    "        self.convolution2D = nn.Sequential(*layers)\n",
    "\n",
    "    def forward(self, x):\n",
    "        return self.convolution2D(x)"
   ],
   "metadata": {
    "id": "aeTDWb9MsBPd",
    "execution": {
     "iopub.status.busy": "2023-06-26T06:52:29.160816Z",
     "iopub.execute_input": "2023-06-26T06:52:29.161185Z",
     "iopub.status.idle": "2023-06-26T06:52:29.179505Z",
     "shell.execute_reply.started": "2023-06-26T06:52:29.161155Z",
     "shell.execute_reply": "2023-06-26T06:52:29.178466Z"
    },
    "trusted": true
   },
   "execution_count": 8,
   "outputs": []
  },
  {
   "cell_type": "code",
   "source": [
    "############ SRGAN ############\n",
    "class ResidualBlock(nn.Module):\n",
    "  def __init__(self, in_channels):\n",
    "    super(ResidualBlock, self).__init__()\n",
    "    self.conv_act_bn_1 = Conv2D(in_channels=in_channels, out_channels=in_channels, kernel_size=(3, 3), activation=nn.PReLU())\n",
    "    self.conv_act_bn_2 = Conv2D(in_channels=in_channels, out_channels=in_channels, kernel_size=(3, 3), activation=nn.PReLU(), if_act=False)\n",
    "\n",
    "  def forward(self, x):\n",
    "    residual = self.conv_act_bn_1(x)\n",
    "    residual = self.conv_act_bn_2(residual)\n",
    "    return residual + x\n",
    "\n",
    "class UpsampleBlock(nn.Module):\n",
    "  def __init__(self,\n",
    "               in_channels,\n",
    "               out_channels):\n",
    "    super(UpsampleBlock, self).__init__()\n",
    "    conv_1 = Conv2D(in_channels=in_channels, out_channels=out_channels, kernel_size=(3, 3), if_act=False, if_batch_norm=False)\n",
    "    pixel_shuffle = nn.PixelShuffle(2)\n",
    "    activation = nn.PReLU()\n",
    "    self.upsampling = nn.Sequential(*[conv_1, pixel_shuffle, activation])\n",
    "\n",
    "  def forward(self, x):\n",
    "    x = self.upsampling(x)\n",
    "    return x\n",
    "\n",
    "class SRGANGenerator(nn.Module):\n",
    "  def __init__(self,\n",
    "               in_channels,\n",
    "               out_channels,\n",
    "               upsampling_rate):\n",
    "    super(SRGANGenerator, self).__init__()\n",
    "    self.first_res_conv = Conv2D(in_channels=in_channels, out_channels=out_channels, kernel_size=(9, 9), activation=nn.PReLU(), if_batch_norm=False)\n",
    "    self.residual_seq = nn.Sequential(*[ResidualBlock(out_channels) for i in range(16)])\n",
    "    self.last_res_conv = Conv2D(in_channels=out_channels, out_channels=out_channels, kernel_size=(3, 3), if_act=False, if_batch_norm=True)\n",
    "    self.upsampling_seq = nn.Sequential(*[UpsampleBlock(in_channels=out_channels, out_channels=(out_channels*upsampling_rate)) for i in range(upsampling_rate//2)])\n",
    "    self.last_conv = Conv2D(in_channels=out_channels, out_channels=in_channels, kernel_size=(9, 9), activation=nn.PReLU(), if_batch_norm=False)\n",
    "    self.activation = nn.Tanh()\n",
    "\n",
    "  def forward(self, x):\n",
    "    x = self.first_res_conv(x)\n",
    "    new_x = self.residual_seq(x)\n",
    "    new_x = self.last_res_conv(new_x) + x # long skip connection\n",
    "    new_x = self.upsampling_seq(new_x)\n",
    "    new_x = self.last_conv(new_x)\n",
    "    new_x = self.activation(new_x)\n",
    "    return new_x\n",
    "\n",
    "class Discriminator(nn.Module):\n",
    "  def __init__(self,\n",
    "               in_channels,\n",
    "               out_channels):\n",
    "    super(Discriminator, self).__init__()\n",
    "    layers=[]\n",
    "    layers.append(Conv2D(in_channels=in_channels, out_channels=out_channels, kernel_size=(3, 3), activation=nn.LeakyReLU(0.2), if_batch_norm=False))\n",
    "    for i in range(6):\n",
    "        if(i%2==0):\n",
    "          layers.append(Conv2D(in_channels=out_channels, out_channels=out_channels*2, kernel_size=(3, 3), strides=2, padding=1, activation=nn.LeakyReLU(0.2)))\n",
    "          out_channels = out_channels*2\n",
    "        else:\n",
    "          layers.append(Conv2D(in_channels=out_channels, out_channels=out_channels, kernel_size=(3, 3), strides=1, activation=nn.LeakyReLU(0.2)))\n",
    "    layers.append(Conv2D(in_channels=out_channels, out_channels=out_channels, kernel_size=(3, 3), strides=2, padding=1, activation=nn.LeakyReLU(0.2)))\n",
    "    layers.append(nn.AdaptiveAvgPool2d((1, 1)))\n",
    "    layers.append(nn.Flatten())\n",
    "    layers.append(nn.Linear(in_features=out_channels, out_features=out_channels*2))\n",
    "    layers.append(nn.LeakyReLU(0.2))\n",
    "    layers.append(nn.Linear(in_features=out_channels*2, out_features=1))\n",
    "    layers.append(nn.Sigmoid())\n",
    "    self.net = nn.Sequential(*layers)\n",
    "\n",
    "  def forward(self, x):\n",
    "    return self.net(x)"
   ],
   "metadata": {
    "id": "F4juyCgo7wAj",
    "execution": {
     "iopub.status.busy": "2023-06-26T06:52:29.181162Z",
     "iopub.execute_input": "2023-06-26T06:52:29.181494Z",
     "iopub.status.idle": "2023-06-26T06:52:29.208372Z",
     "shell.execute_reply.started": "2023-06-26T06:52:29.181466Z",
     "shell.execute_reply": "2023-06-26T06:52:29.207062Z"
    },
    "trusted": true
   },
   "execution_count": 9,
   "outputs": []
  },
  {
   "cell_type": "code",
   "source": [
    "class FeaturesFromVGG19(nn.Module):\n",
    "  def __init__(self,\n",
    "               device):\n",
    "    super().__init__()\n",
    "    vgg = vgg19(pretrained=True).to(device)\n",
    "    self.vgg = nn.Sequential(*list(vgg.features)[:-3]).eval() # using feature maps before activation (as the ESRGAN states it gets better results)\n",
    "    for p in self.vgg.parameters():\n",
    "      p.requires_grad = False\n",
    "    self.normalize_input = torchvision.transforms.Normalize(mean=(0.485, 0.456, 0.406), std=(0.229, 0.224, 0.225))\n",
    "\n",
    "  def forward(self, x):\n",
    "    x = self.normalize_input(x)\n",
    "    return self.vgg(x)\n",
    "\n",
    "# Implements composite content+adversarial loss for our GAN\n",
    "class SRGANLoss(nn.Module):\n",
    "    def __init__(self, device='cuda'):\n",
    "        super().__init__()\n",
    "        self.device = device\n",
    "        self.vgg = FeaturesFromVGG19(device)\n",
    "\n",
    "    # Total Variation Loss (It is a regularization term used to encourage smoothness and reduce noise in the generated images)\n",
    "    def total_variation_loss(self, x_fake):\n",
    "      tv_loss = TotalVariation('mean').to(self.device)\n",
    "      return tv_loss(x_fake)\n",
    "\n",
    "    # L2 loss (used to encourage the generated samples to be close to the target samples)\n",
    "    def mse_loss(self, x_real, x_fake):\n",
    "      return F.mse_loss(x_real, x_fake)\n",
    "\n",
    "    # Feature matching loss (Percepion loss)\n",
    "    def vgg_loss(self, x_real, x_fake):\n",
    "      return F.mse_loss(self.vgg(x_real), self.vgg(x_fake))\n",
    "\n",
    "    # Adversarial loss\n",
    "    def adversarial_loss(self, x, is_real):\n",
    "      target = torch.zeros_like(x) if is_real else torch.ones_like(x)\n",
    "      return F.binary_cross_entropy_with_logits(x, target)\n",
    "\n",
    "    def forward(self, stage, generator, discriminator, g_optimizer, d_optimizer, manual_backward, hr_real, lr_real):\n",
    "      # Calculating Loss for generator\n",
    "      hr_fake = generator(lr_real)\n",
    "      fake_preds_for_g = discriminator(hr_fake)\n",
    "      g_loss = (0.001 * self.adversarial_loss(fake_preds_for_g, False) + 0.006 * self.vgg_loss(hr_real, hr_fake) + self.mse_loss(hr_real, hr_fake)) + 2e-8 * self.total_variation_loss(hr_fake)\n",
    "      if(stage=='train'):\n",
    "        # Optimizing generator\n",
    "        g_optimizer.zero_grad()\n",
    "        manual_backward(g_loss)\n",
    "        g_optimizer.step()\n",
    "\n",
    "      # Calculating Loss for discriminator\n",
    "      fake_preds_for_d = discriminator(hr_fake.detach())\n",
    "      real_preds_for_d = discriminator(hr_real.detach())\n",
    "      d_loss = 0.5 * (self.adversarial_loss(real_preds_for_d, True) + self.adversarial_loss(fake_preds_for_d, False))\n",
    "      if(stage=='train'):\n",
    "        # Optimizing discriminator\n",
    "        d_optimizer.zero_grad()\n",
    "        manual_backward(d_loss)\n",
    "        d_optimizer.step()\n",
    "      return g_loss, d_loss, hr_fake"
   ],
   "metadata": {
    "id": "zuPi0TC-gdHp",
    "execution": {
     "iopub.status.busy": "2023-06-26T06:52:29.212440Z",
     "iopub.execute_input": "2023-06-26T06:52:29.212824Z",
     "iopub.status.idle": "2023-06-26T06:52:29.233592Z",
     "shell.execute_reply.started": "2023-06-26T06:52:29.212793Z",
     "shell.execute_reply": "2023-06-26T06:52:29.232185Z"
    },
    "trusted": true
   },
   "execution_count": 10,
   "outputs": []
  },
  {
   "cell_type": "code",
   "source": [
    "############ ESRGAN ############\n",
    "\n",
    "class EUpsampleBlock(nn.Module):\n",
    "    def __init__(self,\n",
    "                 in_channels):\n",
    "        super().__init__()\n",
    "        self.upsample = nn.Sequential(nn.Upsample(scale_factor=2, mode=\"nearest\"),\n",
    "                                      nn.Conv2d(in_channels=in_channels, out_channels=in_channels, kernel_size=3, stride=1, padding=1),\n",
    "                                      nn.LeakyReLU(0.2, inplace=True))\n",
    "    def forward(self, x):\n",
    "        return self.upsample(x)\n",
    "\n",
    "class DenseResidualBlock(nn.Module):\n",
    "  def __init__(self,\n",
    "               in_channels,\n",
    "               channels=32,\n",
    "               residual_beta=0.2):\n",
    "    super(DenseResidualBlock, self).__init__()\n",
    "    self.residual_beta = residual_beta\n",
    "    self.blocks = nn.ModuleList()\n",
    "\n",
    "    for i in range(5):\n",
    "      self.blocks.append(\n",
    "          Conv2D(in_channels=in_channels + channels * i, out_channels=channels if i <= 3 else in_channels, kernel_size=(3, 3), activation=nn.LeakyReLU(0.2, inplace=True), if_act=True if i <=3 else False, if_batch_norm=False)\n",
    "      )\n",
    "\n",
    "  def forward(self, x):\n",
    "    new_inputs = x\n",
    "    for block in self.blocks:\n",
    "      out = block(new_inputs)\n",
    "      new_inputs = torch.cat([new_inputs, out], dim=1)\n",
    "    return self.residual_beta * out + x\n",
    "\n",
    "class BasicBlock(nn.Module):\n",
    "  def __init__(self,\n",
    "               in_channels,\n",
    "               residual_beta = 0.2\n",
    "               ):\n",
    "    super(BasicBlock, self).__init__()\n",
    "    self.residual_beta = residual_beta\n",
    "    self.block = nn.Sequential(*[DenseResidualBlock(in_channels) for _ in range(3)])\n",
    "\n",
    "  def forward(self, x):\n",
    "    return self.block(x) * self.residual_beta + x\n",
    "\n",
    "class ESRGANGenerator(nn.Module):\n",
    "  def __init__(self,\n",
    "               in_channels=3,\n",
    "               out_channels=64,\n",
    "               upsampling_rate=4):\n",
    "      super().__init__()\n",
    "      self.first_res_conv = Conv2D(in_channels=in_channels, out_channels=out_channels, kernel_size=(3, 3), activation=nn.LeakyReLU(0.2, inplace=True), if_batch_norm=False)\n",
    "      self.residual_seq = nn.Sequential(*[BasicBlock(out_channels) for i in range(23)])\n",
    "      self.last_res_conv = Conv2D(in_channels=out_channels, out_channels=out_channels, kernel_size=(3, 3), if_act=False, if_batch_norm=False)\n",
    "      self.upsampling_seq = nn.Sequential(*[EUpsampleBlock(in_channels=out_channels) for i in range(upsampling_rate//2)])\n",
    "      self.final = nn.Sequential(\n",
    "          nn.Conv2d(in_channels=out_channels, out_channels=out_channels, kernel_size=3, stride=1, padding=1),\n",
    "          nn.LeakyReLU(0.2, inplace=True),\n",
    "          nn.Conv2d(in_channels=out_channels, out_channels=in_channels, kernel_size=3, stride=1, padding=1),\n",
    "      )\n",
    "      self.activation = nn.Tanh()\n",
    "\n",
    "  def forward(self, x):\n",
    "      x = self.first_res_conv(x)\n",
    "      new_x = self.residual_seq(x)\n",
    "      new_x = self.last_res_conv(new_x) + x\n",
    "      new_x = self.upsampling_seq(new_x)\n",
    "      new_x = self.final(new_x)\n",
    "      return self.activation(new_x)"
   ],
   "metadata": {
    "id": "UHCuoxnkOjqV",
    "execution": {
     "iopub.status.busy": "2023-06-26T06:52:29.235453Z",
     "iopub.execute_input": "2023-06-26T06:52:29.236037Z",
     "iopub.status.idle": "2023-06-26T06:52:29.257369Z",
     "shell.execute_reply.started": "2023-06-26T06:52:29.236002Z",
     "shell.execute_reply": "2023-06-26T06:52:29.256100Z"
    },
    "trusted": true
   },
   "execution_count": 11,
   "outputs": []
  },
  {
   "cell_type": "code",
   "source": [
    "# --------------------------------\n",
    "# Step 3: Compile your model\n",
    "# --------------------------------\n",
    "class ModelCompilation(pl.LightningModule):\n",
    "    def __init__(self,\n",
    "                 model,\n",
    "                 loss_function,\n",
    "                 optimizer,\n",
    "                 learning_rate,\n",
    "                 train_generator_only):\n",
    "        super().__init__()\n",
    "        self.generator = model['generator']\n",
    "        self.discriminator = model['discriminator']\n",
    "        self.loss_function = loss_function\n",
    "        self.optimizer = optimizer\n",
    "        self.learning_rate = learning_rate\n",
    "        self.train_generator_only = train_generator_only\n",
    "        if(train_generator_only==False):\n",
    "          self.automatic_optimization = False\n",
    "        self.save_hyperparameters(logger=False)\n",
    "\n",
    "    def forward(self, x):\n",
    "      pass\n",
    "\n",
    "    def configure_optimizers(self):\n",
    "      if(self.train_generator_only):\n",
    "        gen_optimizer = self.optimizer(self.generator.parameters(), lr=self.learning_rate)\n",
    "        return gen_optimizer\n",
    "      else:\n",
    "        self.gen_optimizer = self.optimizer(self.generator.parameters(), lr=self.learning_rate)\n",
    "        self.dis_optimizer = self.optimizer(self.discriminator.parameters(), lr=self.learning_rate)\n",
    "        return [self.gen_optimizer, self.dis_optimizer], []\n",
    "\n",
    "    def training_step(self, batch, batch_idx):\n",
    "      if(self.train_generator_only):\n",
    "        loss, pred, y = self.common_step(batch, batch_idx, 'train')\n",
    "        return loss\n",
    "      else:\n",
    "        g_loss, d_loss, pred, y = self.common_step(batch, batch_idx, 'train')\n",
    "\n",
    "    def validation_step(self, batch, batch_idx):\n",
    "      if(self.train_generator_only):\n",
    "          loss, pred, y = self.common_step(batch, batch_idx, 'val')\n",
    "          return loss\n",
    "      else:\n",
    "          g_loss, d_loss, pred, y = self.common_step(batch, batch_idx, 'val')\n",
    "\n",
    "    def common_step(self, batch, batch_idx, stage):\n",
    "\n",
    "        if (stage == 'test') or (stage == 'val'):\n",
    "            on_step = False\n",
    "        else:\n",
    "            on_step = True\n",
    "\n",
    "        high_r_real, low_r_x = batch\n",
    "        if(self.train_generator_only):\n",
    "          self.high_r_fake = self.generator(low_r_x)\n",
    "          loss = self.loss_function.mse_loss(high_r_real, self.high_r_fake)\n",
    "          self.log(stage + '_generator_' + 'loss', loss, on_step=on_step, on_epoch=True, prog_bar=True, logger=True)\n",
    "          return loss, self.high_r_fake, high_r_real\n",
    "        else:\n",
    "          g_loss, d_loss, self.high_r_fake = self.loss_function(stage, self.generator, self.discriminator, self.gen_optimizer, self.dis_optimizer, self.manual_backward, high_r_real, low_r_x)\n",
    "          self.log(stage + '_generator_' + 'loss', g_loss, on_step=on_step, on_epoch=True, prog_bar=True, logger=True)\n",
    "          self.log(stage + '_discriminator_' + 'loss', d_loss, on_step=on_step, on_epoch=True, prog_bar=True, logger=True)\n",
    "          return g_loss, d_loss, self.high_r_fake, high_r_real"
   ],
   "metadata": {
    "id": "wObsr1S54bRU",
    "execution": {
     "iopub.status.busy": "2023-06-26T06:52:29.259432Z",
     "iopub.execute_input": "2023-06-26T06:52:29.259977Z",
     "iopub.status.idle": "2023-06-26T06:52:29.280040Z",
     "shell.execute_reply.started": "2023-06-26T06:52:29.259922Z",
     "shell.execute_reply": "2023-06-26T06:52:29.278298Z"
    },
    "trusted": true
   },
   "execution_count": 12,
   "outputs": []
  },
  {
   "cell_type": "code",
   "source": [
    "# -------------------\n",
    "# Step 4: Init your DataModule\n",
    "# -------------------\n",
    "\n",
    "batch_size = 16\n",
    "patch_size = 128\n",
    "upsampling_rate = 4\n",
    "data_module = DataModule(upsampling_rate=upsampling_rate, patch_size=patch_size, batch_size=batch_size)"
   ],
   "metadata": {
    "colab": {
     "base_uri": "https://localhost:8080/"
    },
    "id": "keA9b0QFm1pq",
    "outputId": "73c237ef-5756-45d4-b2e9-50bdf07ded35",
    "execution": {
     "iopub.status.busy": "2023-06-26T06:52:29.281925Z",
     "iopub.execute_input": "2023-06-26T06:52:29.282521Z",
     "iopub.status.idle": "2023-06-26T06:57:41.710494Z",
     "shell.execute_reply.started": "2023-06-26T06:52:29.282468Z",
     "shell.execute_reply": "2023-06-26T06:57:41.709010Z"
    },
    "trusted": true
   },
   "execution_count": 13,
   "outputs": [
    {
     "output_type": "display_data",
     "data": {
      "text/plain": "Downloading builder script: 0.00B [00:00, ?B/s]",
      "application/vnd.jupyter.widget-view+json": {
       "version_major": 2,
       "version_minor": 0,
       "model_id": "3faac2ee58fa48d1a846a4eac4d9c9e0"
      }
     },
     "metadata": {}
    },
    {
     "name": "stdout",
     "text": "Downloading and preparing dataset div2k/bicubic_x4 to /root/.cache/huggingface/datasets/eugenesiow___div2k/bicubic_x4/2.0.0/d7599f94c7e662a3eed3547efc7efa52b2ed71082b40fc2e42a693870e35b677...\n",
     "output_type": "stream"
    },
    {
     "output_type": "display_data",
     "data": {
      "text/plain": "Downloading data files:   0%|          | 0/4 [00:00<?, ?it/s]",
      "application/vnd.jupyter.widget-view+json": {
       "version_major": 2,
       "version_minor": 0,
       "model_id": "538f77909bbd47608335deb34e89e7b2"
      }
     },
     "metadata": {}
    },
    {
     "output_type": "display_data",
     "data": {
      "text/plain": "Downloading data:   0%|          | 0.00/247M [00:00<?, ?B/s]",
      "application/vnd.jupyter.widget-view+json": {
       "version_major": 2,
       "version_minor": 0,
       "model_id": "2f1303803b074861a0cc9ac07faf5cf4"
      }
     },
     "metadata": {}
    },
    {
     "output_type": "display_data",
     "data": {
      "text/plain": "Downloading data:   0%|          | 0.00/31.5M [00:00<?, ?B/s]",
      "application/vnd.jupyter.widget-view+json": {
       "version_major": 2,
       "version_minor": 0,
       "model_id": "52f834f09359425f8cd8b334f625df19"
      }
     },
     "metadata": {}
    },
    {
     "output_type": "display_data",
     "data": {
      "text/plain": "Downloading data:   0%|          | 0.00/3.53G [00:00<?, ?B/s]",
      "application/vnd.jupyter.widget-view+json": {
       "version_major": 2,
       "version_minor": 0,
       "model_id": "036577c441c44f51916a050f7f0ac941"
      }
     },
     "metadata": {}
    },
    {
     "output_type": "display_data",
     "data": {
      "text/plain": "Downloading data:   0%|          | 0.00/449M [00:00<?, ?B/s]",
      "application/vnd.jupyter.widget-view+json": {
       "version_major": 2,
       "version_minor": 0,
       "model_id": "12adb58e7eee4bc5b5bc1bc7e82b0e34"
      }
     },
     "metadata": {}
    },
    {
     "output_type": "display_data",
     "data": {
      "text/plain": "Extracting data files:   0%|          | 0/4 [00:00<?, ?it/s]",
      "application/vnd.jupyter.widget-view+json": {
       "version_major": 2,
       "version_minor": 0,
       "model_id": "59390b142eed47cfbd42182fb0251bda"
      }
     },
     "metadata": {}
    },
    {
     "output_type": "display_data",
     "data": {
      "text/plain": "Generating train split: 0 examples [00:00, ? examples/s]",
      "application/vnd.jupyter.widget-view+json": {
       "version_major": 2,
       "version_minor": 0,
       "model_id": ""
      }
     },
     "metadata": {}
    },
    {
     "output_type": "display_data",
     "data": {
      "text/plain": "Generating validation split: 0 examples [00:00, ? examples/s]",
      "application/vnd.jupyter.widget-view+json": {
       "version_major": 2,
       "version_minor": 0,
       "model_id": ""
      }
     },
     "metadata": {}
    },
    {
     "name": "stdout",
     "text": "Dataset div2k downloaded and prepared to /root/.cache/huggingface/datasets/eugenesiow___div2k/bicubic_x4/2.0.0/d7599f94c7e662a3eed3547efc7efa52b2ed71082b40fc2e42a693870e35b677. Subsequent calls will reuse this data.\n",
     "output_type": "stream"
    }
   ]
  },
  {
   "cell_type": "code",
   "source": [
    "def fit(generator_model, train_generator_only=False, pretrained_generator_path=None, epochs=100, learning_rate=1e-5):\n",
    "  device = 'cuda'\n",
    "\n",
    "  if(generator_model=='SRGAN'):\n",
    "    generator = SRGANGenerator(in_channels=3, out_channels=64, upsampling_rate=upsampling_rate)\n",
    "    if(train_generator_only):\n",
    "      generator_name_path = 'only_sr_resnet.pth'\n",
    "    else:\n",
    "      generator_name_path = 'srgan_generator.pth'\n",
    "\n",
    "  if(generator_model=='ESRGAN'):\n",
    "    generator = ESRGANGenerator(in_channels=3, out_channels=64, upsampling_rate=upsampling_rate)\n",
    "    if(train_generator_only):\n",
    "      generator_name_path = 'only_sr_dense_resnet.pth'\n",
    "    else:\n",
    "      generator_name_path = 'esrgan_generator.pth'\n",
    "\n",
    "  if(pretrained_generator_path):\n",
    "    generator.load_state_dict(torch.load(pretrained_generator_path))\n",
    "\n",
    "  discriminator = Discriminator(in_channels=3, out_channels=64)\n",
    "  gan = {'generator' : generator, 'discriminator' : discriminator}\n",
    "\n",
    "  loss_function = SRGANLoss(device=device)\n",
    "  optimizer = torch.optim.Adam\n",
    "  learning_rate = learning_rate\n",
    "\n",
    "  model = ModelCompilation(gan, loss_function, optimizer, learning_rate, train_generator_only=train_generator_only)\n",
    "  trainer = pl.Trainer(precision='32', accelerator=device, devices=\"auto\", max_epochs=epochs)\n",
    "  trainer.fit(model, datamodule=data_module)\n",
    "  # Saving generator\n",
    "  torch.save(model.generator.state_dict(), generator_name_path)"
   ],
   "metadata": {
    "id": "7iPDD8hhoQxo",
    "execution": {
     "iopub.status.busy": "2023-06-26T06:58:09.062425Z",
     "iopub.execute_input": "2023-06-26T06:58:09.063597Z",
     "iopub.status.idle": "2023-06-26T06:58:09.077984Z",
     "shell.execute_reply.started": "2023-06-26T06:58:09.063553Z",
     "shell.execute_reply": "2023-06-26T06:58:09.076827Z"
    },
    "trusted": true
   },
   "execution_count": 16,
   "outputs": []
  },
  {
   "cell_type": "code",
   "source": [
    "fit(generator_model='ESRGAN', train_generator_only=False, pretrained_generator_path=None, epochs=330, learning_rate=0.00076)"
   ],
   "metadata": {
    "id": "m0J-lzRUytS9",
    "execution": {
     "iopub.status.busy": "2023-06-26T06:57:41.730448Z",
     "iopub.execute_input": "2023-06-26T06:57:41.730830Z",
     "iopub.status.idle": "2023-06-26T06:57:56.406537Z",
     "shell.execute_reply.started": "2023-06-26T06:57:41.730797Z",
     "shell.execute_reply": "2023-06-26T06:57:56.405160Z"
    },
    "trusted": true
   },
   "execution_count": 15,
   "outputs": [
    {
     "name": "stderr",
     "text": "/opt/conda/lib/python3.10/site-packages/torchvision/models/_utils.py:208: UserWarning: The parameter 'pretrained' is deprecated since 0.13 and may be removed in the future, please use 'weights' instead.\n  warnings.warn(\n/opt/conda/lib/python3.10/site-packages/torchvision/models/_utils.py:223: UserWarning: Arguments other than a weight enum or `None` for 'weights' are deprecated since 0.13 and may be removed in the future. The current behavior is equivalent to passing `weights=VGG19_Weights.IMAGENET1K_V1`. You can also use `weights=VGG19_Weights.DEFAULT` to get the most up-to-date weights.\n  warnings.warn(msg)\nDownloading: \"https://download.pytorch.org/models/vgg19-dcbb9e9d.pth\" to /root/.cache/torch/hub/checkpoints/vgg19-dcbb9e9d.pth\n100%|██████████| 548M/548M [00:07<00:00, 80.8MB/s] \n",
     "output_type": "stream"
    },
    {
     "traceback": [
      "\u001B[0;31m---------------------------------------------------------------------------\u001B[0m",
      "\u001B[0;31mAssertionError\u001B[0m                            Traceback (most recent call last)",
      "Cell \u001B[0;32mIn[15], line 1\u001B[0m\n\u001B[0;32m----> 1\u001B[0m \u001B[43mfit\u001B[49m\u001B[43m(\u001B[49m\u001B[43mgenerator_model\u001B[49m\u001B[38;5;241;43m=\u001B[39;49m\u001B[38;5;124;43m'\u001B[39;49m\u001B[38;5;124;43mESRGAN\u001B[39;49m\u001B[38;5;124;43m'\u001B[39;49m\u001B[43m,\u001B[49m\u001B[43m \u001B[49m\u001B[43mtrain_generator_only\u001B[49m\u001B[38;5;241;43m=\u001B[39;49m\u001B[38;5;28;43;01mFalse\u001B[39;49;00m\u001B[43m,\u001B[49m\u001B[43m \u001B[49m\u001B[43mpretrained_generator_path\u001B[49m\u001B[38;5;241;43m=\u001B[39;49m\u001B[38;5;28;43;01mNone\u001B[39;49;00m\u001B[43m,\u001B[49m\u001B[43m \u001B[49m\u001B[43mepochs\u001B[49m\u001B[38;5;241;43m=\u001B[39;49m\u001B[38;5;241;43m330\u001B[39;49m\u001B[43m,\u001B[49m\u001B[43m \u001B[49m\u001B[43mlearning_rate\u001B[49m\u001B[38;5;241;43m=\u001B[39;49m\u001B[38;5;241;43m0.00076\u001B[39;49m\u001B[43m)\u001B[49m\n",
      "Cell \u001B[0;32mIn[14], line 24\u001B[0m, in \u001B[0;36mfit\u001B[0;34m(generator_model, train_generator_only, pretrained_generator_path, epochs, learning_rate)\u001B[0m\n\u001B[1;32m     21\u001B[0m discriminator \u001B[38;5;241m=\u001B[39m Discriminator(in_channels\u001B[38;5;241m=\u001B[39m\u001B[38;5;241m3\u001B[39m, out_channels\u001B[38;5;241m=\u001B[39m\u001B[38;5;241m64\u001B[39m)\n\u001B[1;32m     22\u001B[0m gan \u001B[38;5;241m=\u001B[39m {\u001B[38;5;124m'\u001B[39m\u001B[38;5;124mgenerator\u001B[39m\u001B[38;5;124m'\u001B[39m : generator, \u001B[38;5;124m'\u001B[39m\u001B[38;5;124mdiscriminator\u001B[39m\u001B[38;5;124m'\u001B[39m : discriminator}\n\u001B[0;32m---> 24\u001B[0m loss_function \u001B[38;5;241m=\u001B[39m \u001B[43mSRGANLoss\u001B[49m\u001B[43m(\u001B[49m\u001B[43mdevice\u001B[49m\u001B[38;5;241;43m=\u001B[39;49m\u001B[43mdevice\u001B[49m\u001B[43m)\u001B[49m\n\u001B[1;32m     25\u001B[0m optimizer \u001B[38;5;241m=\u001B[39m torch\u001B[38;5;241m.\u001B[39moptim\u001B[38;5;241m.\u001B[39mAdam\n\u001B[1;32m     26\u001B[0m learning_rate \u001B[38;5;241m=\u001B[39m learning_rate\n",
      "Cell \u001B[0;32mIn[10], line 20\u001B[0m, in \u001B[0;36mSRGANLoss.__init__\u001B[0;34m(self, device)\u001B[0m\n\u001B[1;32m     18\u001B[0m \u001B[38;5;28msuper\u001B[39m()\u001B[38;5;241m.\u001B[39m\u001B[38;5;21m__init__\u001B[39m()\n\u001B[1;32m     19\u001B[0m \u001B[38;5;28mself\u001B[39m\u001B[38;5;241m.\u001B[39mdevice \u001B[38;5;241m=\u001B[39m device\n\u001B[0;32m---> 20\u001B[0m \u001B[38;5;28mself\u001B[39m\u001B[38;5;241m.\u001B[39mvgg \u001B[38;5;241m=\u001B[39m \u001B[43mFeaturesFromVGG19\u001B[49m\u001B[43m(\u001B[49m\u001B[43mdevice\u001B[49m\u001B[43m)\u001B[49m\n",
      "Cell \u001B[0;32mIn[10], line 5\u001B[0m, in \u001B[0;36mFeaturesFromVGG19.__init__\u001B[0;34m(self, device)\u001B[0m\n\u001B[1;32m      2\u001B[0m \u001B[38;5;28;01mdef\u001B[39;00m \u001B[38;5;21m__init__\u001B[39m(\u001B[38;5;28mself\u001B[39m,\n\u001B[1;32m      3\u001B[0m              device):\n\u001B[1;32m      4\u001B[0m   \u001B[38;5;28msuper\u001B[39m()\u001B[38;5;241m.\u001B[39m\u001B[38;5;21m__init__\u001B[39m()\n\u001B[0;32m----> 5\u001B[0m   vgg \u001B[38;5;241m=\u001B[39m \u001B[43mvgg19\u001B[49m\u001B[43m(\u001B[49m\u001B[43mpretrained\u001B[49m\u001B[38;5;241;43m=\u001B[39;49m\u001B[38;5;28;43;01mTrue\u001B[39;49;00m\u001B[43m)\u001B[49m\u001B[38;5;241;43m.\u001B[39;49m\u001B[43mto\u001B[49m\u001B[43m(\u001B[49m\u001B[43mdevice\u001B[49m\u001B[43m)\u001B[49m\n\u001B[1;32m      6\u001B[0m   \u001B[38;5;28mself\u001B[39m\u001B[38;5;241m.\u001B[39mvgg \u001B[38;5;241m=\u001B[39m nn\u001B[38;5;241m.\u001B[39mSequential(\u001B[38;5;241m*\u001B[39m\u001B[38;5;28mlist\u001B[39m(vgg\u001B[38;5;241m.\u001B[39mfeatures)[:\u001B[38;5;241m-\u001B[39m\u001B[38;5;241m3\u001B[39m])\u001B[38;5;241m.\u001B[39meval() \u001B[38;5;66;03m# using feature maps before activation (as the ESRGAN states it gets better results)\u001B[39;00m\n\u001B[1;32m      7\u001B[0m   \u001B[38;5;28;01mfor\u001B[39;00m p \u001B[38;5;129;01min\u001B[39;00m \u001B[38;5;28mself\u001B[39m\u001B[38;5;241m.\u001B[39mvgg\u001B[38;5;241m.\u001B[39mparameters():\n",
      "File \u001B[0;32m/opt/conda/lib/python3.10/site-packages/torch/nn/modules/module.py:1145\u001B[0m, in \u001B[0;36mModule.to\u001B[0;34m(self, *args, **kwargs)\u001B[0m\n\u001B[1;32m   1141\u001B[0m         \u001B[38;5;28;01mreturn\u001B[39;00m t\u001B[38;5;241m.\u001B[39mto(device, dtype \u001B[38;5;28;01mif\u001B[39;00m t\u001B[38;5;241m.\u001B[39mis_floating_point() \u001B[38;5;129;01mor\u001B[39;00m t\u001B[38;5;241m.\u001B[39mis_complex() \u001B[38;5;28;01melse\u001B[39;00m \u001B[38;5;28;01mNone\u001B[39;00m,\n\u001B[1;32m   1142\u001B[0m                     non_blocking, memory_format\u001B[38;5;241m=\u001B[39mconvert_to_format)\n\u001B[1;32m   1143\u001B[0m     \u001B[38;5;28;01mreturn\u001B[39;00m t\u001B[38;5;241m.\u001B[39mto(device, dtype \u001B[38;5;28;01mif\u001B[39;00m t\u001B[38;5;241m.\u001B[39mis_floating_point() \u001B[38;5;129;01mor\u001B[39;00m t\u001B[38;5;241m.\u001B[39mis_complex() \u001B[38;5;28;01melse\u001B[39;00m \u001B[38;5;28;01mNone\u001B[39;00m, non_blocking)\n\u001B[0;32m-> 1145\u001B[0m \u001B[38;5;28;01mreturn\u001B[39;00m \u001B[38;5;28;43mself\u001B[39;49m\u001B[38;5;241;43m.\u001B[39;49m\u001B[43m_apply\u001B[49m\u001B[43m(\u001B[49m\u001B[43mconvert\u001B[49m\u001B[43m)\u001B[49m\n",
      "File \u001B[0;32m/opt/conda/lib/python3.10/site-packages/torch/nn/modules/module.py:797\u001B[0m, in \u001B[0;36mModule._apply\u001B[0;34m(self, fn)\u001B[0m\n\u001B[1;32m    795\u001B[0m \u001B[38;5;28;01mdef\u001B[39;00m \u001B[38;5;21m_apply\u001B[39m(\u001B[38;5;28mself\u001B[39m, fn):\n\u001B[1;32m    796\u001B[0m     \u001B[38;5;28;01mfor\u001B[39;00m module \u001B[38;5;129;01min\u001B[39;00m \u001B[38;5;28mself\u001B[39m\u001B[38;5;241m.\u001B[39mchildren():\n\u001B[0;32m--> 797\u001B[0m         \u001B[43mmodule\u001B[49m\u001B[38;5;241;43m.\u001B[39;49m\u001B[43m_apply\u001B[49m\u001B[43m(\u001B[49m\u001B[43mfn\u001B[49m\u001B[43m)\u001B[49m\n\u001B[1;32m    799\u001B[0m     \u001B[38;5;28;01mdef\u001B[39;00m \u001B[38;5;21mcompute_should_use_set_data\u001B[39m(tensor, tensor_applied):\n\u001B[1;32m    800\u001B[0m         \u001B[38;5;28;01mif\u001B[39;00m torch\u001B[38;5;241m.\u001B[39m_has_compatible_shallow_copy_type(tensor, tensor_applied):\n\u001B[1;32m    801\u001B[0m             \u001B[38;5;66;03m# If the new tensor has compatible tensor type as the existing tensor,\u001B[39;00m\n\u001B[1;32m    802\u001B[0m             \u001B[38;5;66;03m# the current behavior is to change the tensor in-place using `.data =`,\u001B[39;00m\n\u001B[0;32m   (...)\u001B[0m\n\u001B[1;32m    807\u001B[0m             \u001B[38;5;66;03m# global flag to let the user control whether they want the future\u001B[39;00m\n\u001B[1;32m    808\u001B[0m             \u001B[38;5;66;03m# behavior of overwriting the existing tensor or not.\u001B[39;00m\n",
      "File \u001B[0;32m/opt/conda/lib/python3.10/site-packages/torch/nn/modules/module.py:797\u001B[0m, in \u001B[0;36mModule._apply\u001B[0;34m(self, fn)\u001B[0m\n\u001B[1;32m    795\u001B[0m \u001B[38;5;28;01mdef\u001B[39;00m \u001B[38;5;21m_apply\u001B[39m(\u001B[38;5;28mself\u001B[39m, fn):\n\u001B[1;32m    796\u001B[0m     \u001B[38;5;28;01mfor\u001B[39;00m module \u001B[38;5;129;01min\u001B[39;00m \u001B[38;5;28mself\u001B[39m\u001B[38;5;241m.\u001B[39mchildren():\n\u001B[0;32m--> 797\u001B[0m         \u001B[43mmodule\u001B[49m\u001B[38;5;241;43m.\u001B[39;49m\u001B[43m_apply\u001B[49m\u001B[43m(\u001B[49m\u001B[43mfn\u001B[49m\u001B[43m)\u001B[49m\n\u001B[1;32m    799\u001B[0m     \u001B[38;5;28;01mdef\u001B[39;00m \u001B[38;5;21mcompute_should_use_set_data\u001B[39m(tensor, tensor_applied):\n\u001B[1;32m    800\u001B[0m         \u001B[38;5;28;01mif\u001B[39;00m torch\u001B[38;5;241m.\u001B[39m_has_compatible_shallow_copy_type(tensor, tensor_applied):\n\u001B[1;32m    801\u001B[0m             \u001B[38;5;66;03m# If the new tensor has compatible tensor type as the existing tensor,\u001B[39;00m\n\u001B[1;32m    802\u001B[0m             \u001B[38;5;66;03m# the current behavior is to change the tensor in-place using `.data =`,\u001B[39;00m\n\u001B[0;32m   (...)\u001B[0m\n\u001B[1;32m    807\u001B[0m             \u001B[38;5;66;03m# global flag to let the user control whether they want the future\u001B[39;00m\n\u001B[1;32m    808\u001B[0m             \u001B[38;5;66;03m# behavior of overwriting the existing tensor or not.\u001B[39;00m\n",
      "File \u001B[0;32m/opt/conda/lib/python3.10/site-packages/torch/nn/modules/module.py:820\u001B[0m, in \u001B[0;36mModule._apply\u001B[0;34m(self, fn)\u001B[0m\n\u001B[1;32m    816\u001B[0m \u001B[38;5;66;03m# Tensors stored in modules are graph leaves, and we don't want to\u001B[39;00m\n\u001B[1;32m    817\u001B[0m \u001B[38;5;66;03m# track autograd history of `param_applied`, so we have to use\u001B[39;00m\n\u001B[1;32m    818\u001B[0m \u001B[38;5;66;03m# `with torch.no_grad():`\u001B[39;00m\n\u001B[1;32m    819\u001B[0m \u001B[38;5;28;01mwith\u001B[39;00m torch\u001B[38;5;241m.\u001B[39mno_grad():\n\u001B[0;32m--> 820\u001B[0m     param_applied \u001B[38;5;241m=\u001B[39m \u001B[43mfn\u001B[49m\u001B[43m(\u001B[49m\u001B[43mparam\u001B[49m\u001B[43m)\u001B[49m\n\u001B[1;32m    821\u001B[0m should_use_set_data \u001B[38;5;241m=\u001B[39m compute_should_use_set_data(param, param_applied)\n\u001B[1;32m    822\u001B[0m \u001B[38;5;28;01mif\u001B[39;00m should_use_set_data:\n",
      "File \u001B[0;32m/opt/conda/lib/python3.10/site-packages/torch/nn/modules/module.py:1143\u001B[0m, in \u001B[0;36mModule.to.<locals>.convert\u001B[0;34m(t)\u001B[0m\n\u001B[1;32m   1140\u001B[0m \u001B[38;5;28;01mif\u001B[39;00m convert_to_format \u001B[38;5;129;01mis\u001B[39;00m \u001B[38;5;129;01mnot\u001B[39;00m \u001B[38;5;28;01mNone\u001B[39;00m \u001B[38;5;129;01mand\u001B[39;00m t\u001B[38;5;241m.\u001B[39mdim() \u001B[38;5;129;01min\u001B[39;00m (\u001B[38;5;241m4\u001B[39m, \u001B[38;5;241m5\u001B[39m):\n\u001B[1;32m   1141\u001B[0m     \u001B[38;5;28;01mreturn\u001B[39;00m t\u001B[38;5;241m.\u001B[39mto(device, dtype \u001B[38;5;28;01mif\u001B[39;00m t\u001B[38;5;241m.\u001B[39mis_floating_point() \u001B[38;5;129;01mor\u001B[39;00m t\u001B[38;5;241m.\u001B[39mis_complex() \u001B[38;5;28;01melse\u001B[39;00m \u001B[38;5;28;01mNone\u001B[39;00m,\n\u001B[1;32m   1142\u001B[0m                 non_blocking, memory_format\u001B[38;5;241m=\u001B[39mconvert_to_format)\n\u001B[0;32m-> 1143\u001B[0m \u001B[38;5;28;01mreturn\u001B[39;00m \u001B[43mt\u001B[49m\u001B[38;5;241;43m.\u001B[39;49m\u001B[43mto\u001B[49m\u001B[43m(\u001B[49m\u001B[43mdevice\u001B[49m\u001B[43m,\u001B[49m\u001B[43m \u001B[49m\u001B[43mdtype\u001B[49m\u001B[43m \u001B[49m\u001B[38;5;28;43;01mif\u001B[39;49;00m\u001B[43m \u001B[49m\u001B[43mt\u001B[49m\u001B[38;5;241;43m.\u001B[39;49m\u001B[43mis_floating_point\u001B[49m\u001B[43m(\u001B[49m\u001B[43m)\u001B[49m\u001B[43m \u001B[49m\u001B[38;5;129;43;01mor\u001B[39;49;00m\u001B[43m \u001B[49m\u001B[43mt\u001B[49m\u001B[38;5;241;43m.\u001B[39;49m\u001B[43mis_complex\u001B[49m\u001B[43m(\u001B[49m\u001B[43m)\u001B[49m\u001B[43m \u001B[49m\u001B[38;5;28;43;01melse\u001B[39;49;00m\u001B[43m \u001B[49m\u001B[38;5;28;43;01mNone\u001B[39;49;00m\u001B[43m,\u001B[49m\u001B[43m \u001B[49m\u001B[43mnon_blocking\u001B[49m\u001B[43m)\u001B[49m\n",
      "File \u001B[0;32m/opt/conda/lib/python3.10/site-packages/torch/cuda/__init__.py:239\u001B[0m, in \u001B[0;36m_lazy_init\u001B[0;34m()\u001B[0m\n\u001B[1;32m    235\u001B[0m     \u001B[38;5;28;01mraise\u001B[39;00m \u001B[38;5;167;01mRuntimeError\u001B[39;00m(\n\u001B[1;32m    236\u001B[0m         \u001B[38;5;124m\"\u001B[39m\u001B[38;5;124mCannot re-initialize CUDA in forked subprocess. To use CUDA with \u001B[39m\u001B[38;5;124m\"\u001B[39m\n\u001B[1;32m    237\u001B[0m         \u001B[38;5;124m\"\u001B[39m\u001B[38;5;124mmultiprocessing, you must use the \u001B[39m\u001B[38;5;124m'\u001B[39m\u001B[38;5;124mspawn\u001B[39m\u001B[38;5;124m'\u001B[39m\u001B[38;5;124m start method\u001B[39m\u001B[38;5;124m\"\u001B[39m)\n\u001B[1;32m    238\u001B[0m \u001B[38;5;28;01mif\u001B[39;00m \u001B[38;5;129;01mnot\u001B[39;00m \u001B[38;5;28mhasattr\u001B[39m(torch\u001B[38;5;241m.\u001B[39m_C, \u001B[38;5;124m'\u001B[39m\u001B[38;5;124m_cuda_getDeviceCount\u001B[39m\u001B[38;5;124m'\u001B[39m):\n\u001B[0;32m--> 239\u001B[0m     \u001B[38;5;28;01mraise\u001B[39;00m \u001B[38;5;167;01mAssertionError\u001B[39;00m(\u001B[38;5;124m\"\u001B[39m\u001B[38;5;124mTorch not compiled with CUDA enabled\u001B[39m\u001B[38;5;124m\"\u001B[39m)\n\u001B[1;32m    240\u001B[0m \u001B[38;5;28;01mif\u001B[39;00m _cudart \u001B[38;5;129;01mis\u001B[39;00m \u001B[38;5;28;01mNone\u001B[39;00m:\n\u001B[1;32m    241\u001B[0m     \u001B[38;5;28;01mraise\u001B[39;00m \u001B[38;5;167;01mAssertionError\u001B[39;00m(\n\u001B[1;32m    242\u001B[0m         \u001B[38;5;124m\"\u001B[39m\u001B[38;5;124mlibcudart functions unavailable. It looks like you have a broken build?\u001B[39m\u001B[38;5;124m\"\u001B[39m)\n",
      "\u001B[0;31mAssertionError\u001B[0m: Torch not compiled with CUDA enabled"
     ],
     "ename": "AssertionError",
     "evalue": "Torch not compiled with CUDA enabled",
     "output_type": "error"
    }
   ]
  },
  {
   "cell_type": "code",
   "source": [
    "# Loading pretrained SRGAN generator\n",
    "generator = SRGANGenerator(in_channels=3, out_channels=64, upsampling_rate=upsampling_rate)\n",
    "generator.load_state_dict(torch.load('srgan_generator.pth'))"
   ],
   "metadata": {
    "id": "zC4bnKHzEq2Q",
    "colab": {
     "base_uri": "https://localhost:8080/"
    },
    "outputId": "4ae538c6-720a-4abc-fdf7-bce30bfe6f78",
    "execution": {
     "iopub.status.busy": "2023-06-26T06:57:56.411192Z",
     "iopub.status.idle": "2023-06-26T06:57:56.412457Z",
     "shell.execute_reply.started": "2023-06-26T06:57:56.412170Z",
     "shell.execute_reply": "2023-06-26T06:57:56.412202Z"
    },
    "trusted": true
   },
   "execution_count": null,
   "outputs": []
  },
  {
   "cell_type": "code",
   "source": "# Loading pretrained ESRGAN generator\ngenerator = ESRGANGenerator(in_channels=3, out_channels=64, upsampling_rate=upsampling_rate)\ngenerator.load_state_dict(torch.load('/kaggle/input/qweasd/esrgan_generator.pth', map_location='cpu'))",
   "metadata": {
    "id": "BXyOeB_drYjc",
    "execution": {
     "iopub.status.busy": "2023-06-26T07:01:56.510988Z",
     "iopub.execute_input": "2023-06-26T07:01:56.511615Z",
     "iopub.status.idle": "2023-06-26T07:01:57.521444Z",
     "shell.execute_reply.started": "2023-06-26T07:01:56.511565Z",
     "shell.execute_reply": "2023-06-26T07:01:57.520029Z"
    },
    "trusted": true
   },
   "execution_count": 18,
   "outputs": [
    {
     "execution_count": 18,
     "output_type": "execute_result",
     "data": {
      "text/plain": "<All keys matched successfully>"
     },
     "metadata": {}
    }
   ]
  },
  {
   "cell_type": "code",
   "source": "# Testing\nlow_r_real = cv2.imread(data_module.val_dataset[2]['lr'])\nlow_r_real = cv2.cvtColor(low_r_real, cv2.COLOR_BGR2RGB)\nlow_r_real = cv2.resize(low_r_real, (low_r_real.shape[1]//4, low_r_real.shape[0]//4), cv2.INTER_CUBIC)\ncv2.imwrite('low_resolution.png', low_r_real)\nplt.imshow(low_r_real)\n\nlow_r_real = torch.as_tensor(low_r_real).permute(2, 0, 1)/255",
   "metadata": {
    "colab": {
     "base_uri": "https://localhost:8080/",
     "height": 433
    },
    "id": "gvm0NMCyW31Y",
    "outputId": "c0e4d869-7b4c-47d8-f205-15b87c48c53d",
    "execution": {
     "iopub.status.busy": "2023-06-26T07:02:01.890201Z",
     "iopub.execute_input": "2023-06-26T07:02:01.890668Z",
     "iopub.status.idle": "2023-06-26T07:02:02.324551Z",
     "shell.execute_reply.started": "2023-06-26T07:02:01.890635Z",
     "shell.execute_reply": "2023-06-26T07:02:02.323569Z"
    },
    "trusted": true
   },
   "execution_count": 19,
   "outputs": [
    {
     "output_type": "display_data",
     "data": {
      "text/plain": "<Figure size 640x480 with 1 Axes>",
      "image/png": "[encoded data removed]"
     },
     "metadata": {}
    }
   ]
  },
  {
   "cell_type": "code",
   "source": "",
   "metadata": {},
   "execution_count": null,
   "outputs": []
  },
  {
   "cell_type": "code",
   "source": "generator.eval()\nhigh_r_fake = (generator(low_r_real[None, :])[0])\nhigh_r_fake = high_r_fake.permute(1, 2, 0).detach().numpy()\nhigh_r_fake = (high_r_fake + 1)/2\ncv2.imwrite('high_resolution.png', cv2.cvtColor(high_r_fake*255, cv2.COLOR_BGR2RGB))\nplt.imshow(high_r_fake)",
   "metadata": {
    "id": "Y3DZY_8I2U3Y",
    "colab": {
     "base_uri": "https://localhost:8080/",
     "height": 452
    },
    "outputId": "84b278a2-8990-4cf1-8dd1-60914fee23d0",
    "execution": {
     "iopub.status.busy": "2023-06-26T07:02:51.193202Z",
     "iopub.execute_input": "2023-06-26T07:02:51.193682Z",
     "iopub.status.idle": "2023-06-26T07:02:56.484495Z",
     "shell.execute_reply.started": "2023-06-26T07:02:51.193648Z",
     "shell.execute_reply": "2023-06-26T07:02:56.482781Z"
    },
    "trusted": true
   },
   "execution_count": 22,
   "outputs": [
    {
     "execution_count": 22,
     "output_type": "execute_result",
     "data": {
      "text/plain": "<matplotlib.image.AxesImage at 0x7fc5fb1f4340>"
     },
     "metadata": {}
    },
    {
     "output_type": "display_data",
     "data": {
      "text/plain": "<Figure size 640x480 with 1 Axes>",
      "image/png": "[encoded data removed]"
     },
     "metadata": {}
    }
   ]
  }
 ]
}